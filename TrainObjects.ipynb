{
  "nbformat": 4,
  "nbformat_minor": 0,
  "metadata": {
    "colab": {
      "name": "TrainObjects.ipynb",
      "provenance": [],
      "collapsed_sections": [],
      "toc_visible": true,
      "include_colab_link": true
    },
    "kernelspec": {
      "name": "python3",
      "display_name": "Python 3"
    },
    "accelerator": "GPU"
  },
  "cells": [
    {
      "cell_type": "markdown",
      "metadata": {
        "id": "view-in-github",
        "colab_type": "text"
      },
      "source": [
        "<a href=\"https://colab.research.google.com/github/PoeQulta/Train-Custom-Objects-Detector/blob/master/TrainObjects.ipynb\" target=\"_parent\"><img src=\"https://colab.research.google.com/assets/colab-badge.svg\" alt=\"Open In Colab\"/></a>"
      ]
    },
    {
      "cell_type": "markdown",
      "metadata": {
        "id": "ZUr1nHDVU5MB",
        "colab_type": "text"
      },
      "source": [
        "Future Implementations:\n",
        "\n",
        "\n",
        "*   Train for multiple objects [✔]\n",
        "*   TensorBoard functionality [✔]\n",
        "*   use h5py to get over slow drive copy speeds\n",
        "\n"
      ]
    },
    {
      "cell_type": "markdown",
      "metadata": {
        "id": "yEnm7WTivdR-",
        "colab_type": "text"
      },
      "source": [
        "**First: create workspace and prepare environment for tf and object detection api**"
      ]
    },
    {
      "cell_type": "code",
      "metadata": {
        "colab_type": "code",
        "id": "7pLLOxLL9NhY",
        "colab": {}
      },
      "source": [
        "%cd /content/\n",
        "%mkdir TensorFlow\n",
        "%cd TensorFlow\n",
        "%mkdir workspace\n",
        "!git clone https://github.com/tensorflow/models.git\n",
        "!apt-get install protobuf-compiler python-pil python-lxml\n",
        "!sudo pip install jupyter\n",
        "!sudo pip install matplotlib\n",
        "!sudo pip install pandas\n",
        "%cd /content/TensorFlow/models/research/\n",
        "!protoc object_detection/protos/*.proto --python_out=.\n",
        "!export PYTHONPATH=$PYTHONPATH:`pwd`:`pwd`/slim\n",
        "!python setup.py install\n",
        "import os\n",
        "os.environ['PYTHONPATH'] += ':/content/Tensorflow/models/research/:/content/TensorFlow/models/research/slim/'\n",
        "%cd /content/TensorFlow/workspace/\n",
        "%mkdir training_objects\n",
        "%cd training_objects\n",
        "%mkdir annotations\n",
        "%mkdir pre-trained-model\n",
        "%mkdir images\n",
        "%mkdir training\n",
        "%cd images\n",
        "%mkdir train\n",
        "%mkdir test"
      ],
      "execution_count": 0,
      "outputs": []
    },
    {
      "cell_type": "markdown",
      "metadata": {
        "id": "KZ0yWubcyycZ",
        "colab_type": "text"
      },
      "source": [
        "See https://tensorflow-object-detection-api-tutorial.readthedocs.io/en/latest/training.html\n",
        "![alt text](https://i.ibb.co/c8FNwVt/Screenshot-from-2020-03-07-18-20-05.png)"
      ]
    },
    {
      "cell_type": "markdown",
      "metadata": {
        "id": "CoJgthkMyCpe",
        "colab_type": "text"
      },
      "source": [
        "objectNames is a list of labels in dataset\n",
        "\n",
        "Edit accordingly"
      ]
    },
    {
      "cell_type": "code",
      "metadata": {
        "id": "fipu6mqc0ivK",
        "colab_type": "code",
        "colab": {}
      },
      "source": [
        "global objectName\n",
        "objectNames = ['square','circle','coral','star']"
      ],
      "execution_count": 0,
      "outputs": []
    },
    {
      "cell_type": "markdown",
      "metadata": {
        "id": "z8mwUayXvuJh",
        "colab_type": "text"
      },
      "source": [
        "**Get  a pretrained model**, Mobilenet ssd in this case, trained on coco"
      ]
    },
    {
      "cell_type": "code",
      "metadata": {
        "id": "TUAd_CsyZhRO",
        "colab_type": "code",
        "outputId": "c50e031f-0303-42b6-e2f4-6a79d5ed0627",
        "colab": {
          "base_uri": "https://localhost:8080/",
          "height": 357
        }
      },
      "source": [
        "%cd /content/TensorFlow/workspace/training_objects/pre-trained-model\n",
        "!wget http://download.tensorflow.org/models/object_detection/ssd_mobilenet_v3_small_coco_2019_08_14.tar.gz\n",
        "!tar -xvf ssd_mobilenet_v3_small_coco_2019_08_14.tar.gz"
      ],
      "execution_count": 0,
      "outputs": [
        {
          "output_type": "stream",
          "text": [
            "/content/TensorFlow/workspace/training_objects/pre-trained-model\n",
            "--2020-03-25 19:42:18--  http://download.tensorflow.org/models/object_detection/ssd_mobilenet_v3_small_coco_2019_08_14.tar.gz\n",
            "Resolving download.tensorflow.org (download.tensorflow.org)... 172.217.3.16, 2607:f8b0:4026:802::2010\n",
            "Connecting to download.tensorflow.org (download.tensorflow.org)|172.217.3.16|:80... connected.\n",
            "HTTP request sent, awaiting response... 200 OK\n",
            "Length: 35910144 (34M) [application/x-tar]\n",
            "Saving to: ‘ssd_mobilenet_v3_small_coco_2019_08_14.tar.gz’\n",
            "\n",
            "ssd_mobilenet_v3_sm 100%[===================>]  34.25M   136MB/s    in 0.3s    \n",
            "\n",
            "2020-03-25 19:42:18 (136 MB/s) - ‘ssd_mobilenet_v3_small_coco_2019_08_14.tar.gz’ saved [35910144/35910144]\n",
            "\n",
            "ssd_mobilenet_v3_small_coco_2019_08_14/\n",
            "ssd_mobilenet_v3_small_coco_2019_08_14/model.ckpt.index\n",
            "ssd_mobilenet_v3_small_coco_2019_08_14/checkpoint\n",
            "ssd_mobilenet_v3_small_coco_2019_08_14/model.ckpt.meta\n",
            "ssd_mobilenet_v3_small_coco_2019_08_14/frozen_inference_graph.pb\n",
            "ssd_mobilenet_v3_small_coco_2019_08_14/model.tflite\n",
            "ssd_mobilenet_v3_small_coco_2019_08_14/pipeline.config\n",
            "ssd_mobilenet_v3_small_coco_2019_08_14/model.ckpt.data-00000-of-00001\n"
          ],
          "name": "stdout"
        }
      ]
    },
    {
      "cell_type": "markdown",
      "metadata": {
        "id": "FEX9qEZPm-Us",
        "colab_type": "text"
      },
      "source": [
        "Mount Drive to get datasets from and save frozen graph into"
      ]
    },
    {
      "cell_type": "code",
      "metadata": {
        "id": "TjaimxBs-CzV",
        "colab_type": "code",
        "outputId": "2234f153-6145-44e6-e593-2871d2f9be8f",
        "colab": {
          "base_uri": "https://localhost:8080/",
          "height": 122
        }
      },
      "source": [
        "from google.colab import drive\n",
        "drive.mount('/content/drive')"
      ],
      "execution_count": 0,
      "outputs": [
        {
          "output_type": "stream",
          "text": [
            "Go to this URL in a browser: https://accounts.google.com/o/oauth2/auth?client_id=947318989803-6bn6qk8qdgf4n4g3pfee6491hc0brc4i.apps.googleusercontent.com&redirect_uri=urn%3aietf%3awg%3aoauth%3a2.0%3aoob&response_type=code&scope=email%20https%3a%2f%2fwww.googleapis.com%2fauth%2fdocs.test%20https%3a%2f%2fwww.googleapis.com%2fauth%2fdrive%20https%3a%2f%2fwww.googleapis.com%2fauth%2fdrive.photos.readonly%20https%3a%2f%2fwww.googleapis.com%2fauth%2fpeopleapi.readonly\n",
            "\n",
            "Enter your authorization code:\n",
            "··········\n",
            "Mounted at /content/drive\n"
          ],
          "name": "stdout"
        }
      ]
    },
    {
      "cell_type": "markdown",
      "metadata": {
        "id": "o1j7Hy3TnRtN",
        "colab_type": "text"
      },
      "source": [
        "Grab images & xmls into the training folder (includes files in subdirectories)\n",
        "\n",
        "*   change first path to dataset path\n",
        "\n"
      ]
    },
    {
      "cell_type": "code",
      "metadata": {
        "id": "qYBUmls7jbeP",
        "colab_type": "code",
        "colab": {}
      },
      "source": [
        "!find \"/content/Data/\" -type f -print0 | xargs -0 mv -t /content/TensorFlow/workspace/training_objects/images/train/"
      ],
      "execution_count": 0,
      "outputs": []
    },
    {
      "cell_type": "markdown",
      "metadata": {
        "id": "1rR4msyH46w2",
        "colab_type": "text"
      },
      "source": [
        "Below code checks for corrupt files "
      ]
    },
    {
      "cell_type": "code",
      "metadata": {
        "id": "Ko7ouihi1iXO",
        "colab_type": "code",
        "colab": {}
      },
      "source": [
        "import tensorflow as tf\n",
        "from os import listdir\n",
        "from PIL import Image\n",
        "direc = \"/content/TensorFlow/workspace/training_objects/images/test/\"\n",
        "count = 0\n",
        "for filename in listdir(direc):\n",
        "  fn = direc+filename\n",
        "  if filename.endswith('.jpg'):\n",
        "    try:\n",
        "      with tf.Graph().as_default():\n",
        "        image_contents = tf.read_file(fn)\n",
        "        image = tf.image.decode_jpeg(image_contents, channels=3)\n",
        "        init_op = tf.initialize_all_tables()\n",
        "        with tf.Session() as sess:\n",
        "          sess.run(init_op)\n",
        "          tmp = sess.run(image)\n",
        "    except:\n",
        "      try:\n",
        "        os.remove(fn[:-3]+'xml')\n",
        "        os.remove(fn[:-3]+'jpg')\n",
        "      except:\n",
        "        print(\"doesn't exist\")\n",
        "      print(fn)"
      ],
      "execution_count": 0,
      "outputs": []
    },
    {
      "cell_type": "markdown",
      "metadata": {
        "id": "sgukQ2x2ohfh",
        "colab_type": "text"
      },
      "source": [
        "Picks 50 random test samples from dataset "
      ]
    },
    {
      "cell_type": "code",
      "metadata": {
        "colab_type": "code",
        "id": "Fw1VWHoGnqfv",
        "colab": {}
      },
      "source": [
        "import os, random\n",
        "sourceDir = \"/content/TensorFlow/workspace/training_objects/images/train/\"\n",
        "destDir = \"/content/TensorFlow/workspace/training_objects/images/test/\"\n",
        "for i in range(50):\n",
        "  fileName = random.choice(os.listdir(sourceDir))\n",
        "  fileName = fileName[:-3]\n",
        "  path = os.path.join(sourceDir, fileName)\n",
        "  destPath = os.path.join(destDir, fileName)\n",
        "  sourcePathItems = [path+'jpg',path+'xml']\n",
        "  destPathItems = [destPath+'jpg',destPath+'xml']\n",
        "  #print(pathJpg + \":\"+pathxml)\n",
        "  try:\n",
        "    os.rename(sourcePathItems[0], destPathItems[0])\n",
        "    os.rename(sourcePathItems[1], destPathItems[1])\n",
        "  except:\n",
        "    print(destPathItems[1])"
      ],
      "execution_count": 0,
      "outputs": []
    },
    {
      "cell_type": "markdown",
      "metadata": {
        "id": "2v4Oswad148Q",
        "colab_type": "text"
      },
      "source": [
        "**After images are placed in Tensorflow/workspace/training_/images/train and /test appropriatly then:**\n",
        "\n",
        "Convert xml annotation files to CSV"
      ]
    },
    {
      "cell_type": "code",
      "metadata": {
        "id": "eJThBsLO14Sc",
        "colab_type": "code",
        "colab": {}
      },
      "source": [
        "import os\n",
        "import glob\n",
        "import pandas as pd\n",
        "import xml.etree.ElementTree as ET\n",
        "\n",
        "def xml_to_csv(path):\n",
        "    \"\"\"Iterates through all .xml files (generated by labelImg) in a given directory and combines them in a single Pandas datagrame.\n",
        "\n",
        "    Parameters:\n",
        "    ----------\n",
        "    path : {str}\n",
        "        The path containing the .xml files\n",
        "    Returns\n",
        "    -------\n",
        "    Pandas DataFrame\n",
        "        The produced dataframe\n",
        "    \"\"\"\n",
        "\n",
        "    xml_list = []\n",
        "    for xml_file in glob.glob(path + '/*.xml'):\n",
        "        tree = ET.parse(xml_file)\n",
        "        root = tree.getroot()\n",
        "        for member in root.findall('object'):\n",
        "            value = (path+root.find('filename').text,\n",
        "                    int(root.find('size')[0].text),\n",
        "                    int(root.find('size')[1].text),\n",
        "                    member[0].text,\n",
        "                    int(member[4][0].text),\n",
        "                    int(member[4][1].text),\n",
        "                    int(member[4][2].text),\n",
        "                    int(member[4][3].text)\n",
        "                    )\n",
        "            xml_list.append(value)\n",
        "    column_name = ['filename', 'width', 'height',\n",
        "                'class', 'xmin', 'ymin', 'xmax', 'ymax']\n",
        "    xml_df = pd.DataFrame(xml_list, columns=column_name)\n",
        "    return xml_df\n",
        "\n",
        "\n",
        "def main():\n",
        "    inputDir = '/content/TensorFlow/workspace/training_'+objectName+'/images/train/'\n",
        "    outpuDir = '/content/TensorFlow/workspace/training_'+objectName+'/annotations/train.csv'\n",
        "    xml_df = xml_to_csv(inputDir)\n",
        "    xml_df.to_csv(\n",
        "        outpuDir, index=None)\n",
        "    print('Successfully converted training xml to csv.')\n",
        "    inputDir = \"/content/TensorFlow/workspace/training_\"+objectName+\"/images/test/\"\n",
        "    outpuDir = \"/content/TensorFlow/workspace/training_\"+objectName+\"/annotations/test.csv\"\n",
        "    xml_df = xml_to_csv(inputDir)\n",
        "    xml_df.to_csv(\n",
        "        outpuDir, index=None)\n",
        "    print('Successfully converted test xml to csv.')\n",
        "\n",
        "if __name__ == '__main__':\n",
        "    main()"
      ],
      "execution_count": 0,
      "outputs": []
    },
    {
      "cell_type": "markdown",
      "metadata": {
        "id": "iZlx4aJj36xZ",
        "colab_type": "text"
      },
      "source": [
        "**Convert csv to .record\n",
        "get script that converts from csv to .record**\n",
        "*for some bizarro reason, this py script breaks if run as a cell, but from the virtual shell, no exceptions are thrown---probably an Ipython compatibility issue*"
      ]
    },
    {
      "cell_type": "code",
      "metadata": {
        "id": "NekVXCfYmOOM",
        "colab_type": "code",
        "colab": {}
      },
      "source": [
        "%cd /content/\n",
        "!curl -L -o generateRecord.py \"https://drive.google.com/uc?export=download&id=1I_JILFK7RnOFUf2LcpNNtdU79Q2eX91B\""
      ],
      "execution_count": 0,
      "outputs": []
    },
    {
      "cell_type": "markdown",
      "metadata": {
        "id": "r8wQSLQPmRW1",
        "colab_type": "text"
      },
      "source": [
        "convert csv to .record"
      ]
    },
    {
      "cell_type": "code",
      "metadata": {
        "id": "EOx5D-i4o8R0",
        "colab_type": "code",
        "colab": {}
      },
      "source": [
        "!python generateRecord.py --csv_input=/content/TensorFlow/workspace/training_objects/annotations/train.csv --output_path=/content/TensorFlow/workspace/training_objects/annotations/train.record\n",
        "!python generateRecord.py --csv_input=/content/TensorFlow/workspace/training_objects/annotations/test.csv --output_path=/content/TensorFlow/workspace/training_objects/annotations/test.record"
      ],
      "execution_count": 0,
      "outputs": []
    },
    {
      "cell_type": "markdown",
      "metadata": {
        "id": "igdNi5zcmGFa",
        "colab_type": "text"
      },
      "source": [
        "Pull configuration file for the model used"
      ]
    },
    {
      "cell_type": "code",
      "metadata": {
        "id": "tTkPx3rbzPVI",
        "colab_type": "code",
        "outputId": "fdf9612d-9b0a-4f49-ab44-db951ac33a78",
        "colab": {
          "base_uri": "https://localhost:8080/",
          "height": 102
        }
      },
      "source": [
        "%cd /content/TensorFlow/workspace/training_objects/training/\n",
        "!curl -L -o ssd_mobilenet_v3_pets.config \"https://drive.google.com/uc?export=download&id=1IwgZ4sGvIJvUjK-t70r66CeVkblyF8W-\""
      ],
      "execution_count": 0,
      "outputs": [
        {
          "output_type": "stream",
          "text": [
            "/content/TensorFlow/workspace/training_objects/training\n",
            "  % Total    % Received % Xferd  Average Speed   Time    Time     Time  Current\n",
            "                                 Dload  Upload   Total   Spent    Left  Speed\n",
            "100   388    0   388    0     0    994      0 --:--:-- --:--:-- --:--:--   992\n",
            "100  4628  100  4628    0     0   6010      0 --:--:-- --:--:-- --:--:--  6010\n"
          ],
          "name": "stdout"
        }
      ]
    },
    {
      "cell_type": "markdown",
      "metadata": {
        "id": "88fx8M6mmZSn",
        "colab_type": "text"
      },
      "source": [
        "Edit labelmap and configuration file for one object **for multiple objects the files have to be edited manually**   will fix in future versions "
      ]
    },
    {
      "cell_type": "code",
      "metadata": {
        "id": "g211FFz51ioX",
        "colab_type": "code",
        "colab": {}
      },
      "source": [
        "with open('/content/TensorFlow/workspace/training_objects/training/labelmap.pbtxt', 'w') as file:\n",
        "  for i,obj in enumerate(objectNames):\n",
        "    file.writelines( 'item {\\n id: '+str(i+1)+' \\n display_name:\"'+obj+'\"\\n}')\n",
        "with open('/content/TensorFlow/workspace/training_objects/training/ssd_mobilenet_v3_pets.config', 'r') as file:\n",
        "    # read a list of lines into data\n",
        "    data = file.readlines()\n",
        "data[181] = 'input_path:\"/content/TensorFlow/workspace/training_objects/annotations/train.record\"'\n",
        "data[183] = 'label_map_path: \"/content/TensorFlow/workspace/training_objects/training/labelmap.pbtxt\"'\n",
        "data[192] = 'input_path:\"/content/TensorFlow/workspace/training_objects/annotations/test.record\"'\n",
        "data[194] = 'label_map_path: \"/content/TensorFlow/workspace/training_objects/training/labelmap.pbtxt\"'\n",
        "with open('/content/TensorFlow/workspace/training_objects/training/ssd_mobilenet_v3_pets.config', 'w') as file:\n",
        "    file.writelines( data )"
      ],
      "execution_count": 0,
      "outputs": []
    },
    {
      "cell_type": "markdown",
      "metadata": {
        "id": "IS7YboZiQsGh",
        "colab_type": "text"
      },
      "source": [
        "Optionally run TensorBoard using ngork\n",
        "\n",
        "\n",
        "---\n",
        "\n"
      ]
    },
    {
      "cell_type": "code",
      "metadata": {
        "id": "MChOOXa_Qrv0",
        "colab_type": "code",
        "colab": {}
      },
      "source": [
        "%cd /content/\n",
        "!wget https://bin.equinox.io/c/4VmDzA7iaHb/ngrok-stable-linux-amd64.zip\n",
        "!unzip ngrok-stable-linux-amd64.zip\n",
        "LOG_DIR = '/content/TensorFlow/workspace/training_objects/training/'\n",
        "get_ipython().system_raw(\n",
        "    'tensorboard --logdir {} --host 0.0.0.0 --port 6006 &'\n",
        "    .format(LOG_DIR)\n",
        ")\n",
        "get_ipython().system_raw('./ngrok http 6006 &')\n",
        "!curl -s http://localhost:4040/api/tunnels | python3 -c \\\n",
        "    \"import sys, json; print(json.load(sys.stdin)['tunnels'][0]['public_url'])\""
      ],
      "execution_count": 0,
      "outputs": []
    },
    {
      "cell_type": "markdown",
      "metadata": {
        "id": "lhkYA_maQ3tr",
        "colab_type": "text"
      },
      "source": [
        "\n",
        "\n",
        "---\n",
        "Start training:\n"
      ]
    },
    {
      "cell_type": "code",
      "metadata": {
        "id": "ucL3WChFvuM_",
        "colab_type": "code",
        "colab": {}
      },
      "source": [
        "!python /content/TensorFlow/models/research/object_detection/legacy/train.py --logtostderr --pipeline_config_path=/content/TensorFlow/workspace/training_objects/training/ssd_mobilenet_v3_pets.config --train_dir=/content/TensorFlow/workspace/training_Mapping/training/ --log"
      ],
      "execution_count": 0,
      "outputs": []
    },
    {
      "cell_type": "code",
      "metadata": {
        "id": "S17DZ-kb1QTg",
        "colab_type": "code",
        "colab": {}
      },
      "source": [
        "!python /content/TensorFlow/models/research/object_detection/export_inference_graph.py \\\n",
        "    --input_type image_tensor \\\n",
        "    --pipeline_config_path /content/TensorFlow/workspace/training_objects/training/ssd_mobilenet_v3_pets.config\\\n",
        "    --trained_checkpoint_prefix /content/TensorFlow/workspace/training_objects/training/model.ckpt-391\\\n",
        "    --output_directory /content/Mapping/"
      ],
      "execution_count": 0,
      "outputs": []
    },
    {
      "cell_type": "code",
      "metadata": {
        "id": "Ejg5Jm7JHts-",
        "colab_type": "code",
        "colab": {}
      },
      "source": [
        "!rm /content/TensorFlow/workspace/training_Mapping/images/train/*"
      ],
      "execution_count": 0,
      "outputs": []
    },
    {
      "cell_type": "markdown",
      "metadata": {
        "id": "TcqyZWSTo7jo",
        "colab_type": "text"
      },
      "source": [
        "Move images from a directory to another"
      ]
    },
    {
      "cell_type": "code",
      "metadata": {
        "id": "AZPMn-ux4qel",
        "colab_type": "code",
        "colab": {}
      },
      "source": [
        "import os, random\n",
        "sourceDir = \"/content/combined/\"\n",
        "destDir = \"/content/TensorFlow/workspace/training_Mapping/images/train/\"\n",
        "for i in os.listdir(sourceDir):\n",
        "  fileName = i\n",
        "  path = os.path.join(sourceDir, fileName)\n",
        "  destPath = os.path.join(destDir, fileName)\n",
        "  sourcePathItems = [path+'jpg',path+'xml']\n",
        "  destPathItems = [destPath+'jpg',destPath+'xml']\n",
        "  #print(pathJpg + \":\"+pathxml)\n",
        "  os.rename(path, destPath)"
      ],
      "execution_count": 0,
      "outputs": []
    },
    {
      "cell_type": "markdown",
      "metadata": {
        "id": "s_p_f-Y_pCjH",
        "colab_type": "text"
      },
      "source": [
        "removes duplicates"
      ]
    },
    {
      "cell_type": "code",
      "metadata": {
        "id": "mBpa0TwgEJ41",
        "colab_type": "code",
        "colab": {}
      },
      "source": [
        "from os import listdir\n",
        "direc = \"/content/combined/\"\n",
        "count = 0\n",
        "for filename in listdir(direc):\n",
        "  #print(len(listdir(direc)))\n",
        "  if filename[-7:] == \"(1).jpg\":\n",
        "    print('Bad file:', filename) # print out the names of corrupt files\n",
        "    os.remove(direc+filename)\n",
        "    count +=1\n",
        "print(count)"
      ],
      "execution_count": 0,
      "outputs": []
    },
    {
      "cell_type": "code",
      "metadata": {
        "colab_type": "code",
        "id": "XZ3KTTHnnq2p",
        "colab": {}
      },
      "source": [
        "!cp -a -v \"/content/drive/My Drive/DataSets/Star/\". /content/combined/\n",
        "!cp -a -v \"/content/drive/My Drive/DataSets/Circle/\". /content/combined/\n",
        "!cp -a -v \"/content/drive/My Drive/DataSets/Designated_Area1_labeld/\". /content/combined/\n",
        "!cp -a -v \"/content/drive/My Drive/DataSets/Designated_Area2_labled/\". /content/combined/\n",
        "!cp -a -v \"/content/drive/My Drive/DataSets/Coral_fragment_2_labeled/\". /content/combined/"
      ],
      "execution_count": 0,
      "outputs": []
    }
  ]
}